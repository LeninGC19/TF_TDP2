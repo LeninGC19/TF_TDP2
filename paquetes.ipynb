{
  "nbformat": 4,
  "nbformat_minor": 0,
  "metadata": {
    "colab": {
      "provenance": [],
      "authorship_tag": "ABX9TyOtzfua8SLEucZrhf8qNAFt",
      "include_colab_link": true
    },
    "kernelspec": {
      "name": "python3",
      "display_name": "Python 3"
    },
    "language_info": {
      "name": "python"
    }
  },
  "cells": [
    {
      "cell_type": "markdown",
      "metadata": {
        "id": "view-in-github",
        "colab_type": "text"
      },
      "source": [
        "<a href=\"https://colab.research.google.com/github/LeninGC19/TF_TDP2/blob/master/paquetes.ipynb\" target=\"_parent\"><img src=\"https://colab.research.google.com/assets/colab-badge.svg\" alt=\"Open In Colab\"/></a>"
      ]
    },
    {
      "cell_type": "code",
      "execution_count": null,
      "metadata": {
        "id": "1_kHDPeigy-D"
      },
      "outputs": [],
      "source": [
        "%%capture\n",
        "!pip install netcdf4"
      ]
    },
    {
      "cell_type": "code",
      "source": [
        "%%capture\n",
        "!pip install geopandas\n",
        "!pip install rioxarray"
      ],
      "metadata": {
        "id": "JnMYs-pvs4fu"
      },
      "execution_count": null,
      "outputs": []
    },
    {
      "cell_type": "code",
      "source": [
        "import rioxarray\n",
        "from geopandas import read_file as gpd_read_file\n",
        "import geopandas as gpd"
      ],
      "metadata": {
        "id": "EXpj2G1ss7MW"
      },
      "execution_count": null,
      "outputs": []
    },
    {
      "cell_type": "code",
      "execution_count": null,
      "metadata": {
        "id": "GE42YlX1V5_Y"
      },
      "outputs": [],
      "source": [
        "%%capture\n",
        "!pip install geopandas\n",
        "!pip install rioxarray"
      ]
    },
    {
      "cell_type": "code",
      "execution_count": null,
      "metadata": {
        "id": "JB7b-N2CV8dG"
      },
      "outputs": [],
      "source": [
        "import rioxarray\n",
        "from geopandas import read_file as gpd_read_file"
      ]
    },
    {
      "cell_type": "code",
      "execution_count": null,
      "metadata": {
        "id": "617oo-Xfg0Ta"
      },
      "outputs": [],
      "source": [
        "import matplotlib.pyplot as plt"
      ]
    },
    {
      "cell_type": "code",
      "execution_count": null,
      "metadata": {
        "id": "-NLGGUvog2R3"
      },
      "outputs": [],
      "source": [
        "import xarray as xr\n",
        "import pandas as pd\n",
        "import numpy as np"
      ]
    }
  ]
}